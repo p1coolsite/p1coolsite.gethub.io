{
 "cells": [
  {
   "cell_type": "markdown",
   "metadata": {},
   "source": [
    "# this is a tutorial for how to code in html(updated):"
   ]
  },
  {
   "cell_type": "markdown",
   "metadata": {},
   "source": [
    "so you can just  write text like this:"
   ]
  },
  {
   "cell_type": "code",
   "execution_count": null,
   "metadata": {
    "vscode": {
     "languageId": "html"
    }
   },
   "outputs": [],
   "source": [
    "blah blah blah..."
   ]
  },
  {
   "cell_type": "markdown",
   "metadata": {},
   "source": [
    "but you to do it \"*correct*\" you need to write it like this:"
   ]
  },
  {
   "cell_type": "code",
   "execution_count": null,
   "metadata": {
    "vscode": {
     "languageId": "html"
    }
   },
   "outputs": [],
   "source": [
    "<html lang=\"en\">\n",
    "<head>\n",
    "    <meta charset=\"UTF-8\">\n",
    "    <meta name=\"viewport\" content=\"width=device-width, initial-scale=1.0\">\n",
    "    <title>Document</title>\n",
    "</head>\n",
    "<body>\n",
    "    Lorem ipsum dolor, sit amet consectetur adipisicing elit. Placeat, sint eum labore iusto autem ipsa dolorum quos pariatur voluptas deserunt exercitationem veniam! Cumque in tenetur maxime animi architecto quis voluptatum.\n",
    "</body>\n",
    "</html>"
   ]
  },
  {
   "cell_type": "markdown",
   "metadata": {},
   "source": [
    "to make a new line write this:"
   ]
  },
  {
   "cell_type": "code",
   "execution_count": null,
   "metadata": {
    "vscode": {
     "languageId": "html"
    }
   },
   "outputs": [],
   "source": [
    "<p>your text here</p>"
   ]
  },
  {
   "cell_type": "markdown",
   "metadata": {},
   "source": [
    "if you want to make a un-ordered list(bullet points) do the top one, for and ordered list(numbered list) do the bottom one."
   ]
  },
  {
   "cell_type": "code",
   "execution_count": null,
   "metadata": {
    "vscode": {
     "languageId": "html"
    }
   },
   "outputs": [],
   "source": [
    "<lu> \n",
    "<li>list item</li>\n",
    "</lu>\n",
    "<ol>\n",
    "<li>list item</li>\n",
    "</ol>"
   ]
  },
  {
   "cell_type": "markdown",
   "metadata": {},
   "source": [
    "to make a link [like this:](http://example.com/)"
   ]
  },
  {
   "cell_type": "code",
   "execution_count": null,
   "metadata": {
    "vscode": {
     "languageId": "html"
    }
   },
   "outputs": [],
   "source": [
    "<!--\"href=\"your website\"-->\n",
    "<a href=\"https://example.com\">the text for the link to have</a>"
   ]
  },
  {
   "cell_type": "markdown",
   "metadata": {},
   "source": [
    "the \"i\" tag is for italics, same is fo the \"b\" tag but for bold"
   ]
  },
  {
   "cell_type": "markdown",
   "metadata": {},
   "source": [
    "\"h1\" is for \"heading 1\" like the one in word."
   ]
  },
  {
   "cell_type": "markdown",
   "metadata": {},
   "source": [
    "this is the end of this basic tutorial!"
   ]
  }
 ],
 "metadata": {
  "kernelspec": {
   "display_name": "Python 3",
   "language": "python",
   "name": "python3"
  },
  "language_info": {
   "codemirror_mode": {
    "name": "ipython",
    "version": 3
   },
   "file_extension": ".py",
   "mimetype": "text/x-python",
   "name": "python",
   "nbconvert_exporter": "python",
   "pygments_lexer": "ipython3",
   "version": "3.12.8"
  }
 },
 "nbformat": 4,
 "nbformat_minor": 2
}
